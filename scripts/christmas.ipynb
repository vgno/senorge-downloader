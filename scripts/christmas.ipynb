{
 "cells": [
  {
   "cell_type": "code",
   "execution_count": null,
   "metadata": {},
   "outputs": [],
   "source": [
    "from senorge_downloader.utils import fetch, open_dataset\n",
    "import geopandas as gpd\n",
    "import re\n",
    "from pathlib import Path\n",
    "import pandas as pd"
   ]
  },
  {
   "cell_type": "code",
   "execution_count": null,
   "metadata": {},
   "outputs": [],
   "source": [
    "muni_cells = gpd.read_file(\"../data/geo/muni-cells-utm33.geojson\")\n",
    "base_path = Path(\"__file__\").parent / \"..\""
   ]
  },
  {
   "cell_type": "code",
   "execution_count": null,
   "metadata": {},
   "outputs": [],
   "source": [
    "def snow_depth_christmas_eve(filename: Path):\n",
    "    ds = open_dataset(filename)\n",
    "\n",
    "    match = re.match(r'.*_(\\d{4})\\.nc', filename.name)\n",
    "\n",
    "    if not match:\n",
    "        raise ValueError(f\"Could not extract year from filename {filename}\")\n",
    "    \n",
    "    year = match.group(1)\n",
    "\n",
    "    ds = ds.sel(time=pd.to_datetime(f'{year}-12-24'))\n",
    "\n",
    "    dat = ds.to_dataframe().reset_index().rename(columns={\"snow_depth\": \"value\"})\n",
    "    dat[\"year\"] = dat[\"time\"].dt.year.astype(int)\n",
    "\n",
    "    geo = gpd.GeoDataFrame(\n",
    "        data=dat, \n",
    "        geometry=gpd.points_from_xy(dat['x'], dat['y']), \n",
    "        crs=muni_cells.crs, \n",
    "        copy=False\n",
    "    ) # type: ignore\n",
    "\n",
    "    # geo = geo.dropna(subset=['value'])\n",
    "\n",
    "    muni_dat = muni_cells.sjoin(geo, how='left', predicate='intersects').reset_index()\n",
    "    muni_dat = muni_dat.sort_values(by=['kommunekode', 'year', 'rank'])\n",
    "\n",
    "    def first_non_na(x):\n",
    "        result = x[x['value'].notna()].head(1)\n",
    "\n",
    "        if result.empty:\n",
    "            return x.head(1)\n",
    "\n",
    "        return result\n",
    "\n",
    "    result = muni_dat.groupby(['year', 'kommunekode', 'kommunenavn']).apply(first_non_na).reset_index(drop=True)\n",
    "\n",
    "    result[\"value\"] = result[\"value\"].round(4)\n",
    "    result[\"year\"] = result[\"year\"].astype(str)\n",
    "\n",
    "    ds.close()\n",
    "\n",
    "    cols = ['year', 'kommunekode', 'kommunenavn', 'value']\n",
    "\n",
    "    if 'population' in result.columns:\n",
    "        cols.append('population')\n",
    "\n",
    "    if 'count' in result.columns:\n",
    "        cols.append('count')\n",
    "\n",
    "    if 'rank' in result.columns:\n",
    "        cols.append('rank')\n",
    "\n",
    "\n",
    "\n",
    "    return result[cols]"
   ]
  },
  {
   "cell_type": "code",
   "execution_count": null,
   "metadata": {},
   "outputs": [],
   "source": [
    "res = snow_depth_christmas_eve(Path('../data/raw/sd_2018.nc'))"
   ]
  },
  {
   "cell_type": "code",
   "execution_count": null,
   "metadata": {},
   "outputs": [],
   "source": [
    "res.query('kommunenavn == \"Træna\" and year == 2018')"
   ]
  },
  {
   "cell_type": "code",
   "execution_count": null,
   "metadata": {},
   "outputs": [],
   "source": [
    "from tqdm import tqdm\n",
    "\n",
    "files = (base_path / 'data/raw').glob('sd_*.nc')\n",
    "out = (base_path / 'data/christmas-snow-days')\n",
    "out.mkdir(parents=True, exist_ok=True)\n",
    "\n",
    "data = pd.DataFrame()\n",
    "\n",
    "for file in tqdm(list(files)):\n",
    "    data = pd.concat([data, snow_depth_christmas_eve(file)])\n",
    "\n",
    "data.to_csv(out / f\"christmas-eve-snow-days.csv\", index=False)\n"
   ]
  },
  {
   "cell_type": "code",
   "execution_count": null,
   "metadata": {},
   "outputs": [],
   "source": []
  }
 ],
 "metadata": {
  "kernelspec": {
   "display_name": "senorge-downloader-B8P9EzaD-py3.11",
   "language": "python",
   "name": "python3"
  },
  "language_info": {
   "codemirror_mode": {
    "name": "ipython",
    "version": 3
   },
   "file_extension": ".py",
   "mimetype": "text/x-python",
   "name": "python",
   "nbconvert_exporter": "python",
   "pygments_lexer": "ipython3",
   "version": "3.11.6"
  }
 },
 "nbformat": 4,
 "nbformat_minor": 2
}
